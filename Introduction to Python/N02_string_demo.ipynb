{
 "cells": [
  {
   "cell_type": "code",
   "execution_count": 1,
   "metadata": {
    "colab": {
     "base_uri": "https://localhost:8080/"
    },
    "executionInfo": {
     "elapsed": 7,
     "status": "ok",
     "timestamp": 1724088319148,
     "user": {
      "displayName": "Hongzhou Yang",
      "userId": "15013610750638045081"
     },
     "user_tz": 360
    },
    "id": "DYQijrlGq9kj",
    "outputId": "46bc02cd-475b-41a6-d1aa-56e821445a6e"
   },
   "outputs": [
    {
     "name": "stdout",
     "output_type": "stream",
     "text": [
      "Error: 'str' object does not support item assignment\n",
      "Modified String: Jello\n"
     ]
    }
   ],
   "source": [
    "# Original string\n",
    "original_string = \"Hello\"\n",
    "# Attempt to change a character\n",
    "try:\n",
    "    original_string[0] = \"J\"\n",
    "except TypeError as e:\n",
    "    print(f\"Error: {e}\")\n",
    "\n",
    "# Correct way to modify a string\n",
    "modified_string = \"J\" + original_string[1:]\n",
    "print(\"String:\", modified_string)\n"
   ]
  },
  {
   "cell_type": "code",
   "execution_count": 2,
   "metadata": {
    "colab": {
     "base_uri": "https://localhost:8080/"
    },
    "executionInfo": {
     "elapsed": 233,
     "status": "ok",
     "timestamp": 1724088430044,
     "user": {
      "displayName": "Hongzhou Yang",
      "userId": "15013610750638045081"
     },
     "user_tz": 360
    },
    "id": "SxIHSy9graEW",
    "outputId": "20670e70-ab50-4611-a652-2945288ded84"
   },
   "outputs": [
    {
     "name": "stdout",
     "output_type": "stream",
     "text": [
      "Character at index 2: l\n",
      "Substring from index 1 to 4: ell\n"
     ]
    }
   ],
   "source": [
    "# Indexing\n",
    "char_at_position_2 = original_string[2]\n",
    "print(\"Character at index 2:\", char_at_position_2)\n",
    "\n",
    "# Slicing\n",
    "substring = original_string[1:4]\n",
    "print(\"Substring from index 1 to 4:\", substring)\n"
   ]
  },
  {
   "cell_type": "code",
   "execution_count": 3,
   "metadata": {
    "colab": {
     "base_uri": "https://localhost:8080/"
    },
    "executionInfo": {
     "elapsed": 233,
     "status": "ok",
     "timestamp": 1724088639821,
     "user": {
      "displayName": "Hongzhou Yang",
      "userId": "15013610750638045081"
     },
     "user_tz": 360
    },
    "id": "PHHZ9m7-sNKT",
    "outputId": "58278aa7-da8c-47b0-8c12-754efba7f579"
   },
   "outputs": [
    {
     "name": "stdout",
     "output_type": "stream",
     "text": [
      "Full Greeting: Hello, Alice!\n"
     ]
    }
   ],
   "source": [
    "# Concatenating strings\n",
    "greeting = \"Hello\"\n",
    "name = \"Alice\"\n",
    "full_greeting = greeting + \", \" + name + \"!\"\n",
    "print(\"Full Greeting:\", full_greeting)\n"
   ]
  },
  {
   "cell_type": "code",
   "execution_count": 4,
   "metadata": {
    "colab": {
     "base_uri": "https://localhost:8080/"
    },
    "executionInfo": {
     "elapsed": 259,
     "status": "ok",
     "timestamp": 1724088846365,
     "user": {
      "displayName": "Hongzhou Yang",
      "userId": "15013610750638045081"
     },
     "user_tz": 360
    },
    "id": "_N7T5kKzs_di",
    "outputId": "b46dd7b4-9d47-4935-d9c8-3e43f4b43764"
   },
   "outputs": [
    {
     "name": "stdout",
     "output_type": "stream",
     "text": [
      "Repeated String: Hello Hello Hello \n"
     ]
    }
   ],
   "source": [
    "# Repeating strings\n",
    "repeated = \"Hello \" * 3\n",
    "print(\"Repeated String:\", repeated)\n"
   ]
  },
  {
   "cell_type": "code",
   "execution_count": 5,
   "metadata": {
    "colab": {
     "base_uri": "https://localhost:8080/"
    },
    "executionInfo": {
     "elapsed": 200,
     "status": "ok",
     "timestamp": 1724089107403,
     "user": {
      "displayName": "Hongzhou Yang",
      "userId": "15013610750638045081"
     },
     "user_tz": 360
    },
    "id": "2eRnr9Nat_iB",
    "outputId": "fd3dfa32-322d-443e-c120-9ee8dde838c3"
   },
   "outputs": [
    {
     "name": "stdout",
     "output_type": "stream",
     "text": [
      "Contains 'Hello': True\n"
     ]
    }
   ],
   "source": [
    "# Checking membership\n",
    "contains_hello = \"Hello\" in full_greeting\n",
    "print(\"Contains 'Hello':\", contains_hello)\n"
   ]
  },
  {
   "cell_type": "code",
   "execution_count": 6,
   "metadata": {
    "colab": {
     "base_uri": "https://localhost:8080/"
    },
    "executionInfo": {
     "elapsed": 233,
     "status": "ok",
     "timestamp": 1724089456783,
     "user": {
      "displayName": "Hongzhou Yang",
      "userId": "15013610750638045081"
     },
     "user_tz": 360
    },
    "id": "U5riDgcju4pr",
    "outputId": "4cffb9b8-1024-48ec-aba8-4ada0fce4225"
   },
   "outputs": [
    {
     "name": "stdout",
     "output_type": "stream",
     "text": [
      "Formatted pi value: Value of pi to two decimal places: 3.14\n"
     ]
    }
   ],
   "source": [
    "# Old style formatting with precision\n",
    "pi_value = 3.14159\n",
    "formatted_pi = \"Value of pi to two decimal places: %.2f\" % pi_value\n",
    "print(\"Formatted pi value:\", formatted_pi)\n"
   ]
  },
  {
   "cell_type": "code",
   "execution_count": 7,
   "metadata": {
    "colab": {
     "base_uri": "https://localhost:8080/"
    },
    "executionInfo": {
     "elapsed": 212,
     "status": "ok",
     "timestamp": 1724089491182,
     "user": {
      "displayName": "Hongzhou Yang",
      "userId": "15013610750638045081"
     },
     "user_tz": 360
    },
    "id": "tU_y6yZvvaXA",
    "outputId": "dba13244-6ed2-4ed9-9c0b-8015b2ad4c38"
   },
   "outputs": [
    {
     "name": "stdout",
     "output_type": "stream",
     "text": [
      "Using named placeholders with str.format(): My name is Bob and I am 40 years old.\n"
     ]
    }
   ],
   "source": [
    "# Using named placeholders\n",
    "intro_format_named = \"My name is {name} and I am {age} years old.\".format(name=\"Bob\", age=40)\n",
    "print(\"Using named placeholders with str.format():\", intro_format_named)\n"
   ]
  },
  {
   "cell_type": "code",
   "execution_count": 10,
   "metadata": {
    "colab": {
     "base_uri": "https://localhost:8080/"
    },
    "executionInfo": {
     "elapsed": 222,
     "status": "ok",
     "timestamp": 1724089819168,
     "user": {
      "displayName": "Hongzhou Yang",
      "userId": "15013610750638045081"
     },
     "user_tz": 360
    },
    "id": "j_Gd3P0swVji",
    "outputId": "34f59f35-b21c-473c-eae1-fb85376d61db"
   },
   "outputs": [
    {
     "name": "stdout",
     "output_type": "stream",
     "text": [
      "f-String with calculation: Alice's age squared is 25.\n"
     ]
    }
   ],
   "source": [
    "# f-String with calculation\n",
    "name = \"Alice\"\n",
    "age = 5\n",
    "square_age = f\"{name}'s age squared is {age**2}.\"\n",
    "print(\"f-String with calculation:\", square_age)\n"
   ]
  },
  {
   "cell_type": "code",
   "execution_count": 19,
   "metadata": {
    "colab": {
     "base_uri": "https://localhost:8080/"
    },
    "executionInfo": {
     "elapsed": 205,
     "status": "ok",
     "timestamp": 1724092826312,
     "user": {
      "displayName": "Hongzhou Yang",
      "userId": "15013610750638045081"
     },
     "user_tz": 360
    },
    "id": "dq6kjjqR1Odk",
    "outputId": "4fca343b-f7ce-4f1a-c769-bf60a693cc09"
   },
   "outputs": [
    {
     "name": "stdout",
     "output_type": "stream",
     "text": [
      "Regular String Output:\n",
      "First line\n",
      "Second line\twith tab and backslash \\\n",
      "--------------------\n",
      "Raw String Output:\n",
      "First line\\nSecond line\\twith tab and backslash \\\\\n",
      "--------------------\n"
     ]
    }
   ],
   "source": [
    "# Define the content with potential escape characters\n",
    "content = \"First line\\nSecond line\\twith tab and backslash \\\\\"\n",
    "\n",
    "# Regular String: Interprets the escape sequences\n",
    "regular_string = content\n",
    "print(\"Regular String Output:\")\n",
    "print(regular_string)\n",
    "print(\"--------------------\")\n",
    "\n",
    "# Raw String: Ignores the escape sequences\n",
    "raw_string = r\"First line\\nSecond line\\twith tab and backslash \\\\\"\n",
    "print(\"Raw String Output:\")\n",
    "print(raw_string)\n",
    "print(\"--------------------\")"
   ]
  }
 ],
 "metadata": {
  "colab": {
   "authorship_tag": "ABX9TyOEFcTuEIvDInn3tQXFNyGJ",
   "provenance": []
  },
  "kernelspec": {
   "display_name": "Python 3 (ipykernel)",
   "language": "python",
   "name": "python3"
  },
  "language_info": {
   "codemirror_mode": {
    "name": "ipython",
    "version": 3
   },
   "file_extension": ".py",
   "mimetype": "text/x-python",
   "name": "python",
   "nbconvert_exporter": "python",
   "pygments_lexer": "ipython3",
   "version": "3.10.9"
  }
 },
 "nbformat": 4,
 "nbformat_minor": 4
}
