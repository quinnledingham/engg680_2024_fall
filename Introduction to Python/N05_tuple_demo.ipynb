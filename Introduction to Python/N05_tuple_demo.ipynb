{
 "cells": [
  {
   "cell_type": "code",
   "execution_count": 3,
   "metadata": {
    "colab": {
     "base_uri": "https://localhost:8080/"
    },
    "executionInfo": {
     "elapsed": 321,
     "status": "ok",
     "timestamp": 1724134236289,
     "user": {
      "displayName": "Hongzhou Yang",
      "userId": "15013610750638045081"
     },
     "user_tz": 360
    },
    "id": "Q3-hVkQtZkDP",
    "outputId": "4d701260-1c85-4ad5-8e43-3a41ae09855b"
   },
   "outputs": [
    {
     "name": "stdout",
     "output_type": "stream",
     "text": [
      "(1, 3, 3, 4, 5)\n",
      "('apple', 'banana', 'cherry')\n",
      "(1, 'Hello', 3.14, True)\n",
      "()\n",
      "(1,)\n"
     ]
    }
   ],
   "source": [
    "# A tuple of integers\n",
    "numbers = (1, 3, 3, 4, 5)\n",
    "print(numbers)\n",
    "\n",
    "# A tuple of strings\n",
    "fruits = (\"apple\", \"banana\", \"cherry\")\n",
    "print(fruits)\n",
    "\n",
    "# A tuple with mixed types\n",
    "mixed_tuple = (1, \"Hello\", 3.14, True)\n",
    "print(mixed_tuple)\n",
    "\n",
    "# An empty tuple\n",
    "empty_tuple = ()\n",
    "print(empty_tuple)\n",
    "\n",
    "# A tuple with one item (note the comma)\n",
    "singleton = (1,)\n",
    "print(singleton)"
   ]
  },
  {
   "cell_type": "code",
   "execution_count": 2,
   "metadata": {
    "colab": {
     "base_uri": "https://localhost:8080/",
     "height": 162
    },
    "executionInfo": {
     "elapsed": 314,
     "status": "error",
     "timestamp": 1724134506102,
     "user": {
      "displayName": "Hongzhou Yang",
      "userId": "15013610750638045081"
     },
     "user_tz": 360
    },
    "id": "ScRQNuBabKnD",
    "outputId": "a8c4237d-5418-4d80-ceab-2ed52ec89f56"
   },
   "outputs": [
    {
     "ename": "TypeError",
     "evalue": "'tuple' object does not support item assignment",
     "output_type": "error",
     "traceback": [
      "\u001b[0;31m---------------------------------------------------------------------------\u001b[0m",
      "\u001b[0;31mTypeError\u001b[0m                                 Traceback (most recent call last)",
      "Cell \u001b[0;32mIn[2], line 2\u001b[0m\n\u001b[1;32m      1\u001b[0m \u001b[38;5;66;03m# This will raise an error\u001b[39;00m\n\u001b[0;32m----> 2\u001b[0m \u001b[43mnumbers\u001b[49m\u001b[43m[\u001b[49m\u001b[38;5;241;43m0\u001b[39;49m\u001b[43m]\u001b[49m \u001b[38;5;241m=\u001b[39m \u001b[38;5;241m10\u001b[39m\n",
      "\u001b[0;31mTypeError\u001b[0m: 'tuple' object does not support item assignment"
     ]
    }
   ],
   "source": [
    "# This will raise an error\n",
    "numbers[0] = 10"
   ]
  },
  {
   "cell_type": "code",
   "execution_count": 4,
   "metadata": {
    "colab": {
     "base_uri": "https://localhost:8080/"
    },
    "executionInfo": {
     "elapsed": 247,
     "status": "ok",
     "timestamp": 1724134855933,
     "user": {
      "displayName": "Hongzhou Yang",
      "userId": "15013610750638045081"
     },
     "user_tz": 360
    },
    "id": "v-d8KIc6cbW1",
    "outputId": "67670b34-9027-4414-9811-3def96f8aaff"
   },
   "outputs": [
    {
     "name": "stdout",
     "output_type": "stream",
     "text": [
      "1 2 3\n"
     ]
    }
   ],
   "source": [
    "# Unpacking a tuple\n",
    "x, y, z = (1, 2, 3)\n",
    "print(x, y, z)  # Output: 1 2 3"
   ]
  },
  {
   "cell_type": "code",
   "execution_count": 4,
   "metadata": {
    "colab": {
     "base_uri": "https://localhost:8080/"
    },
    "executionInfo": {
     "elapsed": 288,
     "status": "ok",
     "timestamp": 1724134963172,
     "user": {
      "displayName": "Hongzhou Yang",
      "userId": "15013610750638045081"
     },
     "user_tz": 360
    },
    "id": "KSbFUmyFc6R7",
    "outputId": "6635e2c8-7a2f-4ac7-9ac5-9c714b8461ed"
   },
   "outputs": [
    {
     "name": "stdout",
     "output_type": "stream",
     "text": [
      "(3, 3, 4)\n"
     ]
    }
   ],
   "source": [
    "# Slicing a tuple\n",
    "print(numbers[1:4])  # Output: (2, 3, 4)"
   ]
  },
  {
   "cell_type": "code",
   "execution_count": 6,
   "metadata": {
    "colab": {
     "base_uri": "https://localhost:8080/"
    },
    "executionInfo": {
     "elapsed": 525,
     "status": "ok",
     "timestamp": 1724135104727,
     "user": {
      "displayName": "Hongzhou Yang",
      "userId": "15013610750638045081"
     },
     "user_tz": 360
    },
    "id": "x0HWiGH-ddT9",
    "outputId": "6553e46d-3e9f-4291-d169-ea580bbdb9cc"
   },
   "outputs": [
    {
     "name": "stdout",
     "output_type": "stream",
     "text": [
      "1\n",
      "2\n"
     ]
    }
   ],
   "source": [
    "print(numbers.count(2))  # Output: 1\n",
    "print(numbers.index(3))  # Output: 2\n"
   ]
  }
 ],
 "metadata": {
  "colab": {
   "authorship_tag": "ABX9TyOY8v7Nq9tejlXQrXgT4AdG",
   "provenance": []
  },
  "kernelspec": {
   "display_name": "Python 3 (ipykernel)",
   "language": "python",
   "name": "python3"
  },
  "language_info": {
   "codemirror_mode": {
    "name": "ipython",
    "version": 3
   },
   "file_extension": ".py",
   "mimetype": "text/x-python",
   "name": "python",
   "nbconvert_exporter": "python",
   "pygments_lexer": "ipython3",
   "version": "3.10.11"
  }
 },
 "nbformat": 4,
 "nbformat_minor": 4
}
